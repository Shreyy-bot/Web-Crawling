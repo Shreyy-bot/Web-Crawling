{
 "cells": [
  {
   "cell_type": "code",
   "execution_count": 39,
   "id": "d0ba66da-db70-4001-b680-2c5fb5c07cf2",
   "metadata": {},
   "outputs": [],
   "source": [
    "import pandas as pd\n",
    "import csv\n",
    "import requests"
   ]
  },
  {
   "cell_type": "code",
   "execution_count": 41,
   "id": "5b7d80e1-b391-4287-b77a-33f64383edd2",
   "metadata": {},
   "outputs": [],
   "source": [
    "from bs4 import BeautifulSoup"
   ]
  },
  {
   "cell_type": "code",
   "execution_count": 43,
   "id": "f7c092e5-ed18-4370-b9ca-a53ee2033195",
   "metadata": {},
   "outputs": [],
   "source": [
    "url = \"https://www.amazon.in/s?k=mobile+phone+under+50000\""
   ]
  },
  {
   "cell_type": "code",
   "execution_count": 56,
   "id": "cd92adb6-2b36-4f24-9ea6-01dbadec6d8d",
   "metadata": {},
   "outputs": [],
   "source": [
    "responce = requests.get(url)"
   ]
  },
  {
   "cell_type": "code",
   "execution_count": 58,
   "id": "a474d93b-687f-41cf-ab67-5f5ad0db22d6",
   "metadata": {},
   "outputs": [
    {
     "data": {
      "text/plain": [
       "<Response [200]>"
      ]
     },
     "execution_count": 58,
     "metadata": {},
     "output_type": "execute_result"
    }
   ],
   "source": [
    "responce"
   ]
  },
  {
   "cell_type": "code",
   "execution_count": 60,
   "id": "1d7c012a-54de-4cf8-b81c-0fd154917f98",
   "metadata": {},
   "outputs": [],
   "source": [
    "soup = BeautifulSoup(responce.content, \"html.parser\")"
   ]
  },
  {
   "cell_type": "code",
   "execution_count": 61,
   "id": "dc016d84-b8ae-46ef-916b-3d32546e69eb",
   "metadata": {},
   "outputs": [],
   "source": [
    "name = []\n",
    "price = []\n",
    "rating = []\n",
    "img = []"
   ]
  },
  {
   "cell_type": "code",
   "execution_count": 64,
   "id": "70be19df-c876-4775-bf62-270b157e6da0",
   "metadata": {},
   "outputs": [],
   "source": [
    "product = soup.find_all('h2', class_=\"a-size-mini a-spacing-none a-color-base s-line-clamp-2\")\n",
    "for i in product:\n",
    "    name.append(i.text)"
   ]
  },
  {
   "cell_type": "code",
   "execution_count": 66,
   "id": "cea4f4e7-b470-4573-a491-2280990e5aae",
   "metadata": {
    "scrolled": true
   },
   "outputs": [
    {
     "data": {
      "text/plain": [
       "['Samsung Galaxy A55 5G (Awesome Iceblue, 12GB RAM, 256GB Storage) | Metal Frame | 50 MP Main Camera (OIS) | Nightography | IP67 | Corning Gorilla Glass Victus+ | sAMOLED with Vision Booster  ',\n",
       " 'OnePlus 12R (Cool Blue, 16GB RAM, 256GB Storage)  ',\n",
       " 'Xiaomi 14 (Jade Green, 12GB RAM, 512GB Storage) | 50MP Leica Professional Optics | 120 Hz 1.5K LTPO AMOLED | SD 8 Gen 3 Hyper OS  ',\n",
       " 'Apple iPhone 13 (128GB) - Midnight  ',\n",
       " 'Xiaomi 14 (Black, 12GB RAM, 512GB Storage) | 50MP Leica Professional Optics | 120 Hz 1.5K LTPO AMOLED | SD 8 Gen 3 Hyper OS  ',\n",
       " 'OnePlus 12R (Sunset Dune, 8GB RAM, 256GB Storage)  ',\n",
       " 'OnePlus 12R (Iron Gray, 16GB RAM, 256GB Storage)  ',\n",
       " 'Vivo V40 Pro 5G AI Smartphone (Ganges Blue, 8GB RAM+ 256GB Storage)  ',\n",
       " 'Vivo V30e 5G Smartphone (Velvet Red, 8GB RAM, 256GB Storage)  ',\n",
       " 'realme NARZO 70 Pro 5G (Glass Gold, 8GB RAM,128GB Storage) Dimensity 7050 5G Chipset | Horizon Glass Design | Segment 1st Flagship Sony IMX890 OIS Camera  ',\n",
       " 'OnePlus Nord CE 3 5G (Aqua Surge, 8GB RAM, 128GB Storage)  ',\n",
       " \"Lava Agni 3 5G (Prestine Glass, 8GB+256GB) | India's 1st Dual AMOLED | Dimensity 7300X | 50MP Triple AI Camera | 66W Fast Charge & 5000 mAh Battery | with Charger | Flat Rs.1500 Off on All Banks  \",\n",
       " 'OnePlus Nord 4 5G (Obsidian Midnight, 12GB RAM, 256GB Storage)  ',\n",
       " \"HONOR X9b 5G (Midnight Black, 8GB + 256GB) | India's First Ultra-Bounce Anti-Drop Curved AMOLED Display | 5800mAh Battery | 108MP Primary Camera | Without Charger  \",\n",
       " 'OnePlus 12R (Cool Blue, 8GB RAM, 256GB Storage)  ',\n",
       " 'Samsung Galaxy A55 5G (Awesome Navy, 12GB RAM, 256GB Storage) | Metal Frame | 50 MP Main Camera (OIS) | Nightography | IP67 | Corning Gorilla Glass Victus+ | sAMOLED with Vision Booster  ']"
      ]
     },
     "execution_count": 66,
     "metadata": {},
     "output_type": "execute_result"
    }
   ],
   "source": [
    "name"
   ]
  },
  {
   "cell_type": "code",
   "execution_count": 72,
   "id": "d02bfcb1-5d17-4a23-b9a5-3d37a8e96f93",
   "metadata": {},
   "outputs": [],
   "source": [
    "star = soup.find_all('span', class_=\"a-icon-alt\")\n",
    "for i in star:\n",
    "    rating.append(i.text)"
   ]
  },
  {
   "cell_type": "code",
   "execution_count": 74,
   "id": "ba591e74-49d6-44e7-9cbd-d1fee035a00c",
   "metadata": {},
   "outputs": [
    {
     "data": {
      "text/plain": [
       "['4.3 out of 5 stars',\n",
       " '4.5 out of 5 stars',\n",
       " '4.3 out of 5 stars',\n",
       " '4.3 out of 5 stars',\n",
       " '4.3 out of 5 stars',\n",
       " '4.3 out of 5 stars',\n",
       " '4.3 out of 5 stars',\n",
       " '4.0 out of 5 stars',\n",
       " '4.3 out of 5 stars',\n",
       " '4.2 out of 5 stars',\n",
       " '4.5 out of 5 stars',\n",
       " '4.2 out of 5 stars',\n",
       " '4.3 out of 5 stars',\n",
       " '4.3 out of 5 stars',\n",
       " '4.2 out of 5 stars',\n",
       " '4.3 out of 5 stars',\n",
       " '4.1 out of 5 stars',\n",
       " '4.2 out of 5 stars',\n",
       " '4.3 out of 5 stars',\n",
       " '4.2 out of 5 stars',\n",
       " '3.6 out of 5 stars',\n",
       " '4.3 out of 5 stars',\n",
       " '4.0 out of 5 stars',\n",
       " '4 Stars & Up']"
      ]
     },
     "execution_count": 74,
     "metadata": {},
     "output_type": "execute_result"
    }
   ],
   "source": [
    "rating"
   ]
  },
  {
   "cell_type": "code",
   "execution_count": 76,
   "id": "972b6405-ef95-4333-a46d-a319308d7818",
   "metadata": {},
   "outputs": [],
   "source": [
    "rupees = soup.find_all('span', class_=\"a-offscreen\")\n",
    "for i in rupees:\n",
    "    price.append(i.text)"
   ]
  },
  {
   "cell_type": "code",
   "execution_count": 78,
   "id": "8bcd1d34-3891-4522-befa-189fe50b2d76",
   "metadata": {
    "scrolled": true
   },
   "outputs": [
    {
     "data": {
      "text/plain": [
       "['₹45,999',\n",
       " '₹48,999',\n",
       " '₹45,998',\n",
       " '₹49,999',\n",
       " '₹79,999',\n",
       " '₹45,499',\n",
       " '₹59,600',\n",
       " '₹49,999',\n",
       " '₹79,999',\n",
       " '₹42,998',\n",
       " '₹45,998',\n",
       " '₹46,080',\n",
       " '₹54,999',\n",
       " '₹25,410.99',\n",
       " '₹34,999',\n",
       " '₹15,498',\n",
       " '₹24,999',\n",
       " '₹17,499',\n",
       " '₹26,999',\n",
       " '₹25,999',\n",
       " '₹27,999',\n",
       " '₹32,999',\n",
       " '₹35,999',\n",
       " '₹24,998',\n",
       " '₹30,999',\n",
       " '₹42,998',\n",
       " '₹45,999',\n",
       " '₹48,999']"
      ]
     },
     "execution_count": 78,
     "metadata": {},
     "output_type": "execute_result"
    }
   ],
   "source": [
    "price"
   ]
  },
  {
   "cell_type": "code",
   "execution_count": 80,
   "id": "b539de07-b5db-45de-9402-d37f85fad013",
   "metadata": {},
   "outputs": [],
   "source": [
    "image = soup.find_all('img')\n",
    "p = 0"
   ]
  },
  {
   "cell_type": "code",
   "execution_count": 82,
   "id": "1558e3cc-2576-4d7f-a406-3a6be9413cda",
   "metadata": {},
   "outputs": [],
   "source": [
    "for i in image:\n",
    "    p+=1\n",
    "    img.append(i.get('src'))\n",
    "    if p==20:\n",
    "        break"
   ]
  },
  {
   "cell_type": "code",
   "execution_count": 84,
   "id": "b6bfbcab-cc1d-451d-a2d5-f1c26bcb5493",
   "metadata": {
    "scrolled": true
   },
   "outputs": [
    {
     "data": {
      "text/plain": [
       "['https://m.media-amazon.com/images/G/31/social_share/amazon_logo._CB633266945_.png',\n",
       " 'https://m.media-amazon.com/images/G/31/gno/sprites/nav-sprite-global-1x-reorg-privacy._CB542307618_.png',\n",
       " 'https://m.media-amazon.com/images/I/71ZrPkGgcLL._AC_UY218_.jpg',\n",
       " 'https://m.media-amazon.com/images/I/717JX3femML._AC_UY218_.jpg',\n",
       " 'https://m.media-amazon.com/images/I/71MsYJjQhBL._AC_UY218_.jpg',\n",
       " 'https://m.media-amazon.com/images/I/61VuVU94RnL._AC_UY218_.jpg',\n",
       " 'https://m.media-amazon.com/images/I/714PYaZXuiL._AC_UY218_.jpg',\n",
       " 'https://m.media-amazon.com/images/I/71c3EH8FoWL._AC_UY218_.jpg',\n",
       " 'https://m.media-amazon.com/images/I/71XNeka-BRL._AC_UY218_.jpg',\n",
       " 'https://m.media-amazon.com/images/I/61OgMJeh15L._AC_UY218_.jpg',\n",
       " 'https://m.media-amazon.com/images/I/61vxwwIEnXL._AC_UY218_.jpg',\n",
       " 'https://m.media-amazon.com/images/I/71Qwha+BcbL._AC_UY218_.jpg',\n",
       " 'https://m.media-amazon.com/images/I/6175SlKKECL._AC_UY218_.jpg',\n",
       " 'https://m.media-amazon.com/images/I/7191m+RPB4L._AC_UY218_.jpg',\n",
       " 'https://m.media-amazon.com/images/I/61NbiB1GU-L._AC_UY218_.jpg',\n",
       " 'https://m.media-amazon.com/images/I/71dGNC6hjHL._AC_UY218_.jpg',\n",
       " 'https://m.media-amazon.com/images/I/717JX3femML._AC_UY218_.jpg',\n",
       " 'https://m.media-amazon.com/images/I/71EeBkydf9L._AC_UY218_.jpg',\n",
       " 'https://m.media-amazon.com/images/G/31/personalization/ybh/loading-4x-gray._CB485916689_.gif']"
      ]
     },
     "execution_count": 84,
     "metadata": {},
     "output_type": "execute_result"
    }
   ],
   "source": [
    "img"
   ]
  },
  {
   "cell_type": "code",
   "execution_count": null,
   "id": "1923c06c-652f-4492-bd5c-3e901adf4692",
   "metadata": {},
   "outputs": [],
   "source": []
  },
  {
   "cell_type": "markdown",
   "id": "6977aa9f-b525-481e-aff9-64dad3701dac",
   "metadata": {},
   "source": [
    "*Download Images*"
   ]
  },
  {
   "cell_type": "code",
   "execution_count": 88,
   "id": "3bf38d23-ec80-4469-b05c-c753dc610873",
   "metadata": {},
   "outputs": [],
   "source": [
    "import os"
   ]
  },
  {
   "cell_type": "code",
   "execution_count": 90,
   "id": "1c1d07ba-1c83-4af5-9309-b9487c1307fb",
   "metadata": {},
   "outputs": [],
   "source": [
    "os.makedirs(\"amazon\", exist_ok=True)"
   ]
  },
  {
   "cell_type": "code",
   "execution_count": 92,
   "id": "c3507c43-9526-4734-97e1-119c25000c77",
   "metadata": {},
   "outputs": [],
   "source": [
    "for i, url in enumerate(img):\n",
    "    try:\n",
    "        # Send a GET request to each image URL to fetch image data\n",
    "        response = requests.get(url)\n",
    "        # Write the image data to a file in the 'amazon' directory\n",
    "        with open(f\"amazon/{i}.jpg\", 'wb') as f:\n",
    "            f.write(response.content)\n",
    "    except:\n",
    "        pass"
   ]
  },
  {
   "cell_type": "code",
   "execution_count": null,
   "id": "88d21b93-223e-4eef-a7a7-624d0a25aa13",
   "metadata": {},
   "outputs": [],
   "source": []
  }
 ],
 "metadata": {
  "kernelspec": {
   "display_name": "Python 3 (ipykernel)",
   "language": "python",
   "name": "python3"
  },
  "language_info": {
   "codemirror_mode": {
    "name": "ipython",
    "version": 3
   },
   "file_extension": ".py",
   "mimetype": "text/x-python",
   "name": "python",
   "nbconvert_exporter": "python",
   "pygments_lexer": "ipython3",
   "version": "3.12.7"
  }
 },
 "nbformat": 4,
 "nbformat_minor": 5
}
