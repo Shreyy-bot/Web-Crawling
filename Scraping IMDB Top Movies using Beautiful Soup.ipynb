{
 "cells": [
  {
   "cell_type": "markdown",
   "metadata": {},
   "source": [
    "## Import Modules"
   ]
  },
  {
   "cell_type": "code",
   "execution_count": 3,
   "metadata": {},
   "outputs": [],
   "source": [
    "from bs4 import BeautifulSoup\n",
    "import requests\n",
    "import pandas as pd"
   ]
  },
  {
   "cell_type": "markdown",
   "metadata": {},
   "source": [
    "## Request page source from URL"
   ]
  },
  {
   "cell_type": "code",
   "execution_count": 6,
   "metadata": {},
   "outputs": [],
   "source": [
    "url = \"https://www.imdb.com/chart/top/\""
   ]
  },
  {
   "cell_type": "code",
   "execution_count": 8,
   "metadata": {},
   "outputs": [],
   "source": [
    "HEADERS = {'User-Agent': 'Mozilla/5.0 (iPad; CPU OS 12_2 like Mac OS X) AppleWebKit/605.1.15 (KHTML, like Gecko) Mobile/15E148'}"
   ]
  },
  {
   "cell_type": "code",
   "execution_count": 10,
   "metadata": {},
   "outputs": [
    {
     "data": {
      "text/plain": [
       "<Response [200]>"
      ]
     },
     "execution_count": 10,
     "metadata": {},
     "output_type": "execute_result"
    }
   ],
   "source": [
    "page = requests.get(url, headers=HEADERS)\n",
    "page"
   ]
  },
  {
   "cell_type": "code",
   "execution_count": 12,
   "metadata": {},
   "outputs": [],
   "source": [
    "## display the page source code\n",
    "# page.content"
   ]
  },
  {
   "cell_type": "code",
   "execution_count": 14,
   "metadata": {},
   "outputs": [],
   "source": [
    "soup = BeautifulSoup(page.content, \"html.parser\")\n",
    "# print(soup.prettify())"
   ]
  },
  {
   "cell_type": "code",
   "execution_count": 34,
   "metadata": {},
   "outputs": [
    {
     "data": {
      "text/plain": [
       "[<h3 class=\"ipc-title__text\">IMDb Charts</h3>,\n",
       " <h3 class=\"ipc-title__text\">1. The Shawshank Redemption</h3>,\n",
       " <h3 class=\"ipc-title__text\">2. The Godfather</h3>,\n",
       " <h3 class=\"ipc-title__text\">3. The Dark Knight</h3>,\n",
       " <h3 class=\"ipc-title__text\">4. The Godfather: Part II</h3>,\n",
       " <h3 class=\"ipc-title__text\">5. 12 Angry Men</h3>,\n",
       " <h3 class=\"ipc-title__text\">6. The Lord of the Rings: The Return of the King</h3>,\n",
       " <h3 class=\"ipc-title__text\">7. Schindler's List</h3>,\n",
       " <h3 class=\"ipc-title__text\">8. Pulp Fiction</h3>,\n",
       " <h3 class=\"ipc-title__text\">9. The Lord of the Rings: The Fellowship of the Ring</h3>,\n",
       " <h3 class=\"ipc-title__text\">10. Il Buono, Il Brutto, Il Cattivo</h3>,\n",
       " <h3 class=\"ipc-title__text\">11. Forrest Gump</h3>,\n",
       " <h3 class=\"ipc-title__text\">12. The Lord of the Rings: The Two Towers</h3>,\n",
       " <h3 class=\"ipc-title__text\">13. Fight Club</h3>,\n",
       " <h3 class=\"ipc-title__text\">14. Inception</h3>,\n",
       " <h3 class=\"ipc-title__text\">15. Star Wars: Episode V - The Empire Strikes Back</h3>,\n",
       " <h3 class=\"ipc-title__text\">16. The Matrix</h3>,\n",
       " <h3 class=\"ipc-title__text\">17. GoodFellas</h3>,\n",
       " <h3 class=\"ipc-title__text\">18. One Flew Over the Cuckoo's Nest</h3>,\n",
       " <h3 class=\"ipc-title__text\">19. Interstellar</h3>,\n",
       " <h3 class=\"ipc-title__text\">20. Se7en</h3>,\n",
       " <h3 class=\"ipc-title__text\">21. It's a Wonderful Life</h3>,\n",
       " <h3 class=\"ipc-title__text\">22. Shichinin No Samurai</h3>,\n",
       " <h3 class=\"ipc-title__text\">23. The Silence of the Lambs</h3>,\n",
       " <h3 class=\"ipc-title__text\">24. Saving Private Ryan</h3>,\n",
       " <h3 class=\"ipc-title__text\">25. City of God</h3>,\n",
       " <h3 class=\"ipc-title__text\">Recently viewed</h3>]"
      ]
     },
     "execution_count": 34,
     "metadata": {},
     "output_type": "execute_result"
    }
   ],
   "source": [
    "# scrap movie names\n",
    "scraped_movies = soup.find_all('h3', class_='ipc-title__text')\n",
    "scraped_movies"
   ]
  },
  {
   "cell_type": "code",
   "execution_count": 36,
   "metadata": {},
   "outputs": [
    {
     "data": {
      "text/plain": [
       "['IMDb Charts',\n",
       " '1. The Shawshank Redemption',\n",
       " '2. The Godfather',\n",
       " '3. The Dark Knight',\n",
       " '4. The Godfather: Part II',\n",
       " '5. 12 Angry Men',\n",
       " '6. The Lord of the Rings: The Return of the King',\n",
       " \"7. Schindler's List\",\n",
       " '8. Pulp Fiction',\n",
       " '9. The Lord of the Rings: The Fellowship of the Ring',\n",
       " '10. Il Buono, Il Brutto, Il Cattivo',\n",
       " '11. Forrest Gump',\n",
       " '12. The Lord of the Rings: The Two Towers',\n",
       " '13. Fight Club',\n",
       " '14. Inception',\n",
       " '15. Star Wars: Episode V - The Empire Strikes Back',\n",
       " '16. The Matrix',\n",
       " '17. GoodFellas',\n",
       " \"18. One Flew Over the Cuckoo's Nest\",\n",
       " '19. Interstellar',\n",
       " '20. Se7en',\n",
       " \"21. It's a Wonderful Life\",\n",
       " '22. Shichinin No Samurai',\n",
       " '23. The Silence of the Lambs',\n",
       " '24. Saving Private Ryan',\n",
       " '25. City of God',\n",
       " 'Recently viewed']"
      ]
     },
     "execution_count": 36,
     "metadata": {},
     "output_type": "execute_result"
    }
   ],
   "source": [
    "# parse movie names\n",
    "movies = []\n",
    "for movie in scraped_movies:\n",
    "    movie = movie.get_text().replace('\\n', \"\")\n",
    "    movie = movie.strip(\" \")\n",
    "    movies.append(movie)\n",
    "movies"
   ]
  },
  {
   "cell_type": "code",
   "execution_count": 40,
   "metadata": {
    "scrolled": true
   },
   "outputs": [
    {
     "data": {
      "text/plain": [
       "[<span class=\"ipc-rating-star--rating\">9.3</span>,\n",
       " <span class=\"ipc-rating-star--rating\">9.2</span>,\n",
       " <span class=\"ipc-rating-star--rating\">9.0</span>,\n",
       " <span class=\"ipc-rating-star--rating\">9.0</span>,\n",
       " <span class=\"ipc-rating-star--rating\">9.0</span>,\n",
       " <span class=\"ipc-rating-star--rating\">9.0</span>,\n",
       " <span class=\"ipc-rating-star--rating\">9.0</span>,\n",
       " <span class=\"ipc-rating-star--rating\">8.9</span>,\n",
       " <span class=\"ipc-rating-star--rating\">8.9</span>,\n",
       " <span class=\"ipc-rating-star--rating\">8.8</span>,\n",
       " <span class=\"ipc-rating-star--rating\">8.8</span>,\n",
       " <span class=\"ipc-rating-star--rating\">8.8</span>,\n",
       " <span class=\"ipc-rating-star--rating\">8.8</span>,\n",
       " <span class=\"ipc-rating-star--rating\">8.8</span>,\n",
       " <span class=\"ipc-rating-star--rating\">8.7</span>,\n",
       " <span class=\"ipc-rating-star--rating\">8.7</span>,\n",
       " <span class=\"ipc-rating-star--rating\">8.7</span>,\n",
       " <span class=\"ipc-rating-star--rating\">8.7</span>,\n",
       " <span class=\"ipc-rating-star--rating\">8.7</span>,\n",
       " <span class=\"ipc-rating-star--rating\">8.6</span>,\n",
       " <span class=\"ipc-rating-star--rating\">8.6</span>,\n",
       " <span class=\"ipc-rating-star--rating\">8.6</span>,\n",
       " <span class=\"ipc-rating-star--rating\">8.6</span>,\n",
       " <span class=\"ipc-rating-star--rating\">8.6</span>,\n",
       " <span class=\"ipc-rating-star--rating\">8.6</span>]"
      ]
     },
     "execution_count": 40,
     "metadata": {},
     "output_type": "execute_result"
    }
   ],
   "source": [
    "# scrap rating for movies\n",
    "scraped_ratings = soup.find_all('span', class_='ipc-rating-star--rating')\n",
    "scraped_ratings"
   ]
  },
  {
   "cell_type": "code",
   "execution_count": 53,
   "metadata": {
    "scrolled": true
   },
   "outputs": [
    {
     "data": {
      "text/plain": [
       "['9.3',\n",
       " '9.2',\n",
       " '9.0',\n",
       " '9.0',\n",
       " '9.0',\n",
       " '9.0',\n",
       " '9.0',\n",
       " '8.9',\n",
       " '8.9',\n",
       " '8.8',\n",
       " '8.8',\n",
       " '8.8',\n",
       " '8.8',\n",
       " '8.8',\n",
       " '8.7',\n",
       " '8.7',\n",
       " '8.7',\n",
       " '8.7',\n",
       " '8.7',\n",
       " '8.6',\n",
       " '8.6',\n",
       " '8.6',\n",
       " '8.6',\n",
       " '8.6',\n",
       " '8.6']"
      ]
     },
     "execution_count": 53,
     "metadata": {},
     "output_type": "execute_result"
    }
   ],
   "source": [
    "# parse ratings\n",
    "ratings = []\n",
    "c = 0\n",
    "for rating in scraped_ratings:\n",
    "    c+=1\n",
    "    if c<=25:\n",
    "        rating = rating.get_text().replace('\\n', '')\n",
    "        ratings.append(rating)\n",
    "    else:\n",
    "        break\n",
    "ratings"
   ]
  },
  {
   "cell_type": "markdown",
   "metadata": {},
   "source": [
    "## Store the Scraped Data"
   ]
  },
  {
   "cell_type": "code",
   "execution_count": 68,
   "metadata": {},
   "outputs": [
    {
     "data": {
      "text/html": [
       "<div>\n",
       "<style scoped>\n",
       "    .dataframe tbody tr th:only-of-type {\n",
       "        vertical-align: middle;\n",
       "    }\n",
       "\n",
       "    .dataframe tbody tr th {\n",
       "        vertical-align: top;\n",
       "    }\n",
       "\n",
       "    .dataframe thead th {\n",
       "        text-align: right;\n",
       "    }\n",
       "</style>\n",
       "<table border=\"1\" class=\"dataframe\">\n",
       "  <thead>\n",
       "    <tr style=\"text-align: right;\">\n",
       "      <th></th>\n",
       "      <th>Movie Names</th>\n",
       "      <th>Ratings</th>\n",
       "    </tr>\n",
       "  </thead>\n",
       "  <tbody>\n",
       "    <tr>\n",
       "      <th>0</th>\n",
       "      <td>1. The Shawshank Redemption</td>\n",
       "      <td>9.3</td>\n",
       "    </tr>\n",
       "    <tr>\n",
       "      <th>1</th>\n",
       "      <td>2. The Godfather</td>\n",
       "      <td>9.2</td>\n",
       "    </tr>\n",
       "    <tr>\n",
       "      <th>2</th>\n",
       "      <td>3. The Dark Knight</td>\n",
       "      <td>9.0</td>\n",
       "    </tr>\n",
       "    <tr>\n",
       "      <th>3</th>\n",
       "      <td>4. The Godfather: Part II</td>\n",
       "      <td>9.0</td>\n",
       "    </tr>\n",
       "    <tr>\n",
       "      <th>4</th>\n",
       "      <td>5. 12 Angry Men</td>\n",
       "      <td>9.0</td>\n",
       "    </tr>\n",
       "  </tbody>\n",
       "</table>\n",
       "</div>"
      ],
      "text/plain": [
       "                   Movie Names Ratings\n",
       "0  1. The Shawshank Redemption     9.3\n",
       "1             2. The Godfather     9.2\n",
       "2           3. The Dark Knight     9.0\n",
       "3    4. The Godfather: Part II     9.0\n",
       "4              5. 12 Angry Men     9.0"
      ]
     },
     "execution_count": 68,
     "metadata": {},
     "output_type": "execute_result"
    }
   ],
   "source": [
    "data = pd.DataFrame()\n",
    "data['Movie Names'] = movies[1:-1]\n",
    "data['Ratings'] = ratings\n",
    "data.head()"
   ]
  },
  {
   "cell_type": "code",
   "execution_count": 70,
   "metadata": {},
   "outputs": [],
   "source": [
    "data.to_csv('IMDB Top Movies.csv', index=False)"
   ]
  },
  {
   "cell_type": "code",
   "execution_count": null,
   "metadata": {},
   "outputs": [],
   "source": []
  },
  {
   "cell_type": "code",
   "execution_count": null,
   "metadata": {},
   "outputs": [],
   "source": []
  },
  {
   "cell_type": "code",
   "execution_count": null,
   "metadata": {},
   "outputs": [],
   "source": []
  }
 ],
 "metadata": {
  "kernelspec": {
   "display_name": "Python 3 (ipykernel)",
   "language": "python",
   "name": "python3"
  },
  "language_info": {
   "codemirror_mode": {
    "name": "ipython",
    "version": 3
   },
   "file_extension": ".py",
   "mimetype": "text/x-python",
   "name": "python",
   "nbconvert_exporter": "python",
   "pygments_lexer": "ipython3",
   "version": "3.12.7"
  }
 },
 "nbformat": 4,
 "nbformat_minor": 4
}
